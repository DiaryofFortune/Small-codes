{
 "cells": [
  {
   "cell_type": "code",
   "execution_count": 129,
   "metadata": {},
   "outputs": [],
   "source": [
    "#读取excel可以用pyexcel，但我用不来，又只是读写就想到了pd.read_excel()\n",
    "import pandas as pd\n",
    "from pandas import DataFrame as df\n",
    "import numpy as np\n",
    "#文件处理与读写需要用到os库，用于文件流I/O操作\n",
    "import os"
   ]
  },
  {
   "cell_type": "code",
   "execution_count": 130,
   "metadata": {},
   "outputs": [],
   "source": [
    "#下面要将Series的array对象转化为list才能用，所以这里写了一个转化的函数\n",
    "def array_to_list(array):\n",
    "    list=[]\n",
    "    for item in array:\n",
    "        list.append(item)\n",
    "    return list"
   ]
  },
  {
   "cell_type": "code",
   "execution_count": 131,
   "metadata": {},
   "outputs": [],
   "source": [
    "if __name__==\"__main__\":\n",
    "    #存放excel的目录\n",
    "    path_data=r'D:\\微信文件\\score_1634885903 - 副本.xls'\n",
    "    data=pd.read_excel(path_data)\n",
    "    #筛选出符合条件的学号、姓名、学历"
   ]
  },
  {
   "cell_type": "code",
   "execution_count": 132,
   "metadata": {},
   "outputs": [],
   "source": [
    "    student_id=array_to_list(data[data['是否通过']=='通过']['学号'].values)\n",
    "    degree=array_to_list(data[data['是否通过']=='通过']['身份'].values)\n",
    "    student_name=array_to_list(data[data['是否通过']=='通过']['姓名'].values)\n",
    "    #将取出的数据进行组合：学号-姓名-学历\n",
    "    file_names=[]\n",
    "    for i in range(len(student_id)):\n",
    "        name=str(student_id[i])+'-'+str(student_name[i])+'-'+str(degree[i])\n",
    "        file_names.append(name)"
   ]
  },
  {
   "cell_type": "code",
   "execution_count": 128,
   "metadata": {},
   "outputs": [
    {
     "name": "stdout",
     "output_type": "stream",
     "text": [
      "Done!\n"
     ]
    }
   ],
   "source": [
    "    #批量命名文件\n",
    "    path_rename=r'D:\\微信文件\\WeChat Files\\wxid_8381453815912\\FileStorage\\File\\2021-11\\shishi'\n",
    "    for dir_names in os.listdir(path_rename):\n",
    "        '''\n",
    "        listdir()函数返回文件夹下所有文件名形成的列表\n",
    "        如原文件夹存放有1.txt,2.txt,3.txt则返回['1.txt','2,txt','3.txt']\n",
    "        '''\n",
    "        os.rename(path_rename+'\\\\'+dir_names,path_rename+'\\\\'+file_names[os.listdir(path_rename).index(dir_names)]+'.txt')\n",
    "    print(\"Done!\")\n",
    "    ''' \n",
    "    一个问题是，关于listdir()列表元素的顺序python是如何确定的。\n",
    "    因为listdir()拿到的顺序和上面提取出来准备重命名的列表顺序是一一对应的，\n",
    "    所以如果顺序错位就会导致整个代码报废（或者起码要重新修改）\n",
    "    '''"
   ]
  }
 ],
 "metadata": {
  "kernelspec": {
   "display_name": "Python 3",
   "language": "python",
   "name": "python3"
  },
  "language_info": {
   "codemirror_mode": {
    "name": "ipython",
    "version": 3
   },
   "file_extension": ".py",
   "mimetype": "text/x-python",
   "name": "python",
   "nbconvert_exporter": "python",
   "pygments_lexer": "ipython3",
   "version": "3.8.3"
  }
 },
 "nbformat": 4,
 "nbformat_minor": 4
}
